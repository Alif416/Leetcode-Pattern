{
  "nbformat": 4,
  "nbformat_minor": 0,
  "metadata": {
    "colab": {
      "private_outputs": true,
      "provenance": [],
      "authorship_tag": "ABX9TyMuu2+TFnLd2Y/ngpdT716S",
      "include_colab_link": true
    },
    "kernelspec": {
      "name": "python3",
      "display_name": "Python 3"
    },
    "language_info": {
      "name": "python"
    }
  },
  "cells": [
    {
      "cell_type": "markdown",
      "metadata": {
        "id": "view-in-github",
        "colab_type": "text"
      },
      "source": [
        "<a href=\"https://colab.research.google.com/github/Alif416/Leetcode-Pattern/blob/main/Leetcode.ipynb\" target=\"_parent\"><img src=\"https://colab.research.google.com/assets/colab-badge.svg\" alt=\"Open In Colab\"/></a>"
      ]
    },
    {
      "cell_type": "markdown",
      "source": [
        "#Sliding Window"
      ],
      "metadata": {
        "id": "yrqu7CJWyg3u"
      }
    },
    {
      "cell_type": "code",
      "execution_count": null,
      "metadata": {
        "id": "einc9BtCydHg"
      },
      "outputs": [],
      "source": [
        "#Maximum Sum Subarray of Size K\n",
        "def maxSum(arr,k):\n",
        "  len_arr=len(arr)\n",
        "\n",
        "  if len_arr<=k:\n",
        "    print(\"Invalid\")\n",
        "\n",
        "  window_sum=sum(arr[:k])\n",
        "  maximum_sum=window_sum\n",
        "  for num in range(len(arr)-k) :\n",
        "    window_sum=window_sum-arr[num]+arr[num+k]\n",
        "    maximum_sum=max(window_sum,maximum_sum)\n",
        "  return maximum_sum\n",
        "\n",
        "arr = [1, 4, 2, 10, 2, 3, 1, 0, 20]\n",
        "k = 4\n",
        "print(maxSum(arr, k))\n",
        "\n"
      ]
    },
    {
      "cell_type": "code",
      "source": [
        "#3. Longest Substring Without Repeating Characters\n",
        "class Solution:\n",
        "    def lengthOfLongestSubstring(self, s):\n",
        "        chars=[]\n",
        "        left=0\n",
        "        right=0\n",
        "        max_length=0\n",
        "        for right in range(len(s)):\n",
        "            while s[right] in chars:\n",
        "                chars.remove(s[left])\n",
        "                left+=1\n",
        "            chars.append(s[right])\n",
        "            max_length=max(max_length,right-left+1)\n",
        "        return max_length\n",
        "\n",
        "\n"
      ],
      "metadata": {
        "id": "eCU37EdIjk97"
      },
      "execution_count": null,
      "outputs": []
    },
    {
      "cell_type": "code",
      "source": [
        "#76. Minimum Window Substring\n",
        "class Solution:\n",
        "    def minWindow(self, s, t) :\n",
        "        if len(s)<len(t):\n",
        "            return \"\"\n"
      ],
      "metadata": {
        "id": "p5LENlcaHXqD"
      },
      "execution_count": null,
      "outputs": []
    },
    {
      "cell_type": "code",
      "source": [
        "#Longest Repeating Character Replacement [LC 424]\n",
        "\n",
        "class Solution:\n",
        "    def characterReplacement(self,str, k):\n",
        "        right=0\n",
        "        left=0\n",
        "        max=0\n",
        "        new=''\n",
        "        for char in str:\n",
        "            m=str.count(digit)\n",
        "            if m>max:\n",
        "                max=m\n",
        "                new=digit\n",
        "        for loop in range(k):\n",
        "            if str[right]==\n",
        "\n",
        "\n"
      ],
      "metadata": {
        "id": "6dlJzJlgp9yu"
      },
      "execution_count": null,
      "outputs": []
    }
  ]
}
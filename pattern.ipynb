{
 "cells": [
  {
   "cell_type": "code",
   "execution_count": null,
   "id": "d5612d6e",
   "metadata": {},
   "outputs": [],
   "source": [
    "#Prefix Sum"
   ]
  },
  {
   "cell_type": "code",
   "execution_count": null,
   "id": "02e0008e",
   "metadata": {},
   "outputs": [
    {
     "name": "stdout",
     "output_type": "stream",
     "text": [
      "1\n"
     ]
    }
   ],
   "source": [
    "# Leetcode 303. Range Sum Query - Immutable\n",
    "class NumArray:\n",
    "\n",
    "    def __init__(self, nums):\n",
    "        self.nums = nums\n",
    "        self.prefix_sum = [0] * (len(nums)+1)\n",
    "        for i in range(1,len(nums)+1):\n",
    "            self.prefix_sum[i] = self.prefix_sum[i-1] + nums[i-1]\n",
    "        \n",
    "\n",
    "    def sumRange(self, left, right):\n",
    "        return self.prefix_sum[right+1] - self.prefix_sum[left]\n",
    "\n",
    "\n",
    "obj = NumArray([-2,0,3,-5,2,-1])\n",
    "print(obj.sumRange(0,2))\n",
    "        "
   ]
  }
 ],
 "metadata": {
  "kernelspec": {
   "display_name": "Python 3",
   "language": "python",
   "name": "python3"
  },
  "language_info": {
   "codemirror_mode": {
    "name": "ipython",
    "version": 3
   },
   "file_extension": ".py",
   "mimetype": "text/x-python",
   "name": "python",
   "nbconvert_exporter": "python",
   "pygments_lexer": "ipython3",
   "version": "3.13.1"
  }
 },
 "nbformat": 4,
 "nbformat_minor": 5
}
